{
 "cells": [
  {
   "cell_type": "code",
   "execution_count": 2,
   "id": "1514c9be",
   "metadata": {},
   "outputs": [],
   "source": [
    "from moviepy.editor import *\n",
    "from pydub import AudioSegment\n",
    "import matplotlib.pyplot as plt\n",
    "import librosa"
   ]
  },
  {
   "cell_type": "code",
   "execution_count": 10,
   "id": "d4627206",
   "metadata": {},
   "outputs": [],
   "source": [
    "def wav_to_mp3(file_name,result_name):\n",
    "    song = AudioSegment.from_wav(file_name)\n",
    "    song.export(result_name,format = \"mp3\")\n",
    "    \n",
    "def mp3_to_wav(file_name,result_name):\n",
    "    song = AudioSegment.from_mp3(file_name)\n",
    "    song.export(result_name,format = \"wav\")\n",
    "    \n",
    "def flac_to_wav(file_name,result_name):\n",
    "    song = AudioSegment.from_file(file_name,\"flac\")\n",
    "    song.export(result_name,format = \"wav\")\n",
    "        \n",
    "def merge_bgm_vocal(vocal,bgm,result_file_name=\"result.mp3\",delay=0):\n",
    "    bgm = AudioSegment.from_wav(bgm)\n",
    "    vocal = AudioSegment.from_wav(vocal)\n",
    "\n",
    "    # mix vocal with mr, voval starting at delay ms into mr\n",
    "    output = vocal.overlay(bgm, position=delay)\n",
    "\n",
    "    # save the result\n",
    "    output.export(result_file_name, format=\"wav\")"
   ]
  }
 ],
 "metadata": {
  "kernelspec": {
   "display_name": "Python 3 (ipykernel)",
   "language": "python",
   "name": "python3"
  },
  "language_info": {
   "codemirror_mode": {
    "name": "ipython",
    "version": 3
   },
   "file_extension": ".py",
   "mimetype": "text/x-python",
   "name": "python",
   "nbconvert_exporter": "python",
   "pygments_lexer": "ipython3",
   "version": "3.9.7"
  }
 },
 "nbformat": 4,
 "nbformat_minor": 5
}
