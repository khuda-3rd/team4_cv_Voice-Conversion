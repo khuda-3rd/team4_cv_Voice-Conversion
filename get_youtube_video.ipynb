{
 "cells": [
  {
   "cell_type": "code",
   "execution_count": 29,
   "id": "6832dad8",
   "metadata": {},
   "outputs": [],
   "source": [
    "from pytube import YouTube\n",
    "import moviepy.editor as mp\n",
    "import re\n",
    "import os"
   ]
  },
  {
   "cell_type": "code",
   "execution_count": 33,
   "id": "83f95e2e",
   "metadata": {},
   "outputs": [],
   "source": [
    "# 유튜브 영상 다운로드 후 오디오 추출\n",
    "# 그 다음 오디오에서 mr을 제거한 다음 mr이 있는 mp3 파일은 삭제\n",
    "def DownloadYoutubeToMP3(directory = \"C:/Users/82108/Desktop/MyProject/VoiceConversion/model\"):\n",
    "    url = input(\"youtube url: \")\n",
    "    result_name = input(\"result file name, NO BLANK or SPECIAL CHAR: \")\n",
    "    print(\"Downloading youtube video..\")\n",
    "    yt = YouTube(url)\n",
    "    stream = yt.streams.get_highest_resolution()\n",
    "    stream.download(directory)\n",
    "    title = yt.title\n",
    "    \n",
    "    print(\"Download Completed!\\n video name: \",title)\n",
    "    filename = remove_unreadable_characters(title)\n",
    "    clip = mp.VideoFileClip(filename)\n",
    "    clip.audio.write_audiofile(result_name+\".mp3\")\n",
    "    \n",
    "    print(\"spleeter is removing MR..\")\n",
    "    !spleeter separate -o output/ {result_name}.mp3\n",
    "    os.remove(result_name+\".mp3\")\n",
    "# 유튜브 영상을 저장할 때 제외되는 특수문자들 제거\n",
    "# 이름이 변경되서 title을 받아오는 모듈의 반환값과 저장되는 이름이 달라서 인식을 못함\n",
    "def remove_unreadable_characters(title):\n",
    "    filename = title.replace('#','')\n",
    "    filename = filename.replace(\"'\",'')\n",
    "    filename = re.sub('[,\\/:*?\"<>|.]','',filename)+'.mp4'\n",
    "    return filename"
   ]
  },
  {
   "cell_type": "code",
   "execution_count": 32,
   "id": "69706f6f",
   "metadata": {
    "scrolled": true
   },
   "outputs": [
    {
     "name": "stdout",
     "output_type": "stream",
     "text": [
      "youtube url: https://www.youtube.com/watch?v=tcWO235XHqo\n",
      "result file name, NO BLANK or SPECIAL CHAR: test\n",
      "Downloading youtube video..\n",
      "Download Completed! video name:  전상근, 신예영 - 안녕 우린 헤어져야만 해 LIVE Clip #1\n",
      "전상근 신예영 - 안녕 우린 헤어져야만 해 LIVE Clip 1.mp4\n",
      "MoviePy - Writing audio in test.mp3\n"
     ]
    },
    {
     "name": "stderr",
     "output_type": "stream",
     "text": [
      "                                                                      "
     ]
    },
    {
     "name": "stdout",
     "output_type": "stream",
     "text": [
      "MoviePy - Done.\n",
      "spleeter is removing MR..\n"
     ]
    },
    {
     "name": "stderr",
     "output_type": "stream",
     "text": [
      "\r"
     ]
    },
    {
     "name": "stdout",
     "output_type": "stream",
     "text": [
      "INFO:spleeter:File output\\test/vocals.wav written succesfully\n",
      "INFO:spleeter:File output\\test/accompaniment.wav written succesfully\n"
     ]
    }
   ],
   "source": [
    "DownloadYoutubeToMP3()"
   ]
  },
  {
   "cell_type": "code",
   "execution_count": null,
   "id": "a484a1bd",
   "metadata": {},
   "outputs": [],
   "source": []
  }
 ],
 "metadata": {
  "kernelspec": {
   "display_name": "Python 3 (ipykernel)",
   "language": "python",
   "name": "python3"
  },
  "language_info": {
   "codemirror_mode": {
    "name": "ipython",
    "version": 3
   },
   "file_extension": ".py",
   "mimetype": "text/x-python",
   "name": "python",
   "nbconvert_exporter": "python",
   "pygments_lexer": "ipython3",
   "version": "3.9.7"
  }
 },
 "nbformat": 4,
 "nbformat_minor": 5
}
