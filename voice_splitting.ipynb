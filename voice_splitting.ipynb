{
 "cells": [
  {
   "cell_type": "code",
   "execution_count": 1,
   "id": "c98b5dd1",
   "metadata": {},
   "outputs": [],
   "source": [
    "#소리 파일을 다루기 위해 필요한 모듈\n",
    "import numpy as np\n",
    "import scipy.io.wavfile\n",
    "import sounddevice as sd\n",
    "import numpy as np\n",
    "import librosa\n",
    "import soundfile as sf"
   ]
  },
  {
   "cell_type": "code",
   "execution_count": 2,
   "id": "561525a4",
   "metadata": {},
   "outputs": [],
   "source": [
    "def open_wav_with_resample(file_name, bit, origin_rate, new_rate):\n",
    "    data, rate = sf.read(file_name, dtype=bit)\n",
    "    data = data.T\n",
    "    data = librosa.resample(data, origin_rate, new_rate)\n",
    "    return data, new_rate\n",
    "\n",
    "def open_wav(file_name, origin_rate):\n",
    "    data, rate = librosa.load(file_name, sr=origin_rate)\n",
    "    return data, rate\n",
    "\n",
    "def open_wav(file_name, origin_rate):\n",
    "    data, rate = librosa.load(file_name, sr=origin_rate)\n",
    "    return data, rate\n",
    "\n",
    "def split_wav(data, sample_rate, start, end):\n",
    "    start *= sample_rate\n",
    "    end *= sample_rate\n",
    "    return data[start:end]\n",
    "\n",
    "#다수의 파일을 10초 간격으로 자른다. 4초 이하의 파일은 생성하지 않는다.\n",
    "#입력 파일은 result+i(숫자)의 형식의 wav 파일이어야한다.\n",
    "def Execute_split(start, end):\n",
    "    num_of_file = 0\n",
    "    for n_file in range(start,end+1):\n",
    "        print(\"now splitting\",str(n_file)+\"th file..\")\n",
    "        file_name = 'result'+str(n_file)+'.wav'\n",
    "        sample_rate = 192000 # 192KHz\n",
    "        data_length = sample_rate * 60 # 192KHz * 60\n",
    "        wav_data, sample_rate = open_wav(file_name, sample_rate)\n",
    "        sec = int(wav_data.shape[0]/192000)\n",
    "        rest = sec%10\n",
    "        for split_time in range(0,sec-rest,10):\n",
    "            num_of_file += 1\n",
    "            edited_data = split_wav(wav_data,sample_rate,split_time,split_time+10)\n",
    "            result_file_name = 'split'+str(num_of_file)+'.wav'\n",
    "            sample_format = 'PCM_16' # PCM_24, PCM_16 PCM_s8 등 옵션있음.\n",
    "            sf.write(result_file_name, edited_data, sample_rate, subtype=sample_format)\n",
    "        num_of_file += 1\n",
    "        # 모델에 너무 짧은 음성은 학습시키지 않는다.\n",
    "        if rest > 4:\n",
    "            edited_data = split_wav(wav_data,sample_rate,sec-rest,sec)\n",
    "            result_file_name = 'split'+str(num_of_file)+'.wav'\n",
    "            sample_format = 'PCM_16' # PCM_24, PCM_16 PCM_s8 등 옵션있음.\n",
    "            sf.write(result_file_name, edited_data, sample_rate, subtype=sample_format)\n",
    "\n",
    "def edit_one_file(file_name,result_file_name='result',start_time=0,end_time=10):\n",
    "    sample_rate = 192000 # 192KHz\n",
    "    data_length = sample_rate * 60 # 192KHz * 60\n",
    "    wav_data, sample_rate = open_wav(file_name, sample_rate)\n",
    "    edited_data = split_wav(wav_data,sample_rate,start_time,end_time)\n",
    "    sample_format = 'PCM_16' # PCM_24, PCM_16 PCM_s8 등 옵션있음.\n",
    "    sf.write(result_file_name, edited_data, sample_rate, subtype=sample_format)\n"
   ]
  },
  {
   "cell_type": "code",
   "execution_count": 41,
   "id": "98b397ad",
   "metadata": {},
   "outputs": [
    {
     "name": "stdout",
     "output_type": "stream",
     "text": [
      "now splitting 1th file..\n",
      "now splitting 2th file..\n",
      "now splitting 3th file..\n",
      "now splitting 4th file..\n",
      "now splitting 5th file..\n",
      "now splitting 6th file..\n",
      "now splitting 7th file..\n"
     ]
    }
   ],
   "source": [
    "Execute_split(1,7)"
   ]
  },
  {
   "cell_type": "code",
   "execution_count": 4,
   "id": "4ab2fb75",
   "metadata": {},
   "outputs": [],
   "source": []
  },
  {
   "cell_type": "code",
   "execution_count": 6,
   "id": "83a8cf70",
   "metadata": {},
   "outputs": [],
   "source": [
    "edit_one_file(\"ssk_vocals.wav\",\"result.wav\",13,120)"
   ]
  },
  {
   "cell_type": "code",
   "execution_count": null,
   "id": "2bef9555",
   "metadata": {},
   "outputs": [],
   "source": []
  }
 ],
 "metadata": {
  "kernelspec": {
   "display_name": "Python 3 (ipykernel)",
   "language": "python",
   "name": "python3"
  },
  "language_info": {
   "codemirror_mode": {
    "name": "ipython",
    "version": 3
   },
   "file_extension": ".py",
   "mimetype": "text/x-python",
   "name": "python",
   "nbconvert_exporter": "python",
   "pygments_lexer": "ipython3",
   "version": "3.9.7"
  }
 },
 "nbformat": 4,
 "nbformat_minor": 5
}
